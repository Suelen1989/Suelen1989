{
  "nbformat": 4,
  "nbformat_minor": 0,
  "metadata": {
    "colab": {
      "provenance": [],
      "authorship_tag": "ABX9TyOc9bfqqWRNr+IAsoUPrMFS",
      "include_colab_link": true
    },
    "kernelspec": {
      "name": "python3",
      "display_name": "Python 3"
    },
    "language_info": {
      "name": "python"
    }
  },
  "cells": [
    {
      "cell_type": "markdown",
      "metadata": {
        "id": "view-in-github",
        "colab_type": "text"
      },
      "source": [
        "<a href=\"https://colab.research.google.com/github/Suelen1989/Suelen1989/blob/main/validating_cpf.ipynb\" target=\"_parent\"><img src=\"https://colab.research.google.com/assets/colab-badge.svg\" alt=\"Open In Colab\"/></a>"
      ]
    },
    {
      "cell_type": "code",
      "execution_count": 26,
      "metadata": {
        "colab": {
          "base_uri": "https://localhost:8080/"
        },
        "id": "5ut-vjYC8_XC",
        "outputId": "22ade17b-605b-4fab-a424-b924611a3055"
      },
      "outputs": [
        {
          "output_type": "stream",
          "name": "stdout",
          "text": [
            "6\n",
            "6\n",
            "07697275066 é válido\n"
          ]
        }
      ],
      "source": [
        "# Primeiro digito CPF\n",
        "\n",
        "cpf = '07697275066'\n",
        "nove_digitos = cpf[:9]\n",
        "contador_regressivo_1 = 10\n",
        "\n",
        "resultado_digito_1 = 0\n",
        "for digito in nove_digitos:\n",
        "    resultado_digito_1 += int(digito) * contador_regressivo_1\n",
        "    contador_regressivo_1 -= 1\n",
        "digito_1 = (resultado_digito_1 * 10) % 11\n",
        "digito_1 = digito_1 if digito_1 <= 9 else 0\n",
        "\n",
        "print(digito_1)\n",
        "\n",
        "# Segundo digito CPF\n",
        "\n",
        "dez_digitos = nove_digitos + str(digito_1)\n",
        "contador_regressivo_2 = 11\n",
        "\n",
        "resultado_digito_2 = 0\n",
        "\n",
        "for digito in dez_digitos:\n",
        "    resultado_digito_2 += int(digito) * contador_regressivo_2\n",
        "    contador_regressivo_2 -= 1\n",
        "digito_2 = (resultado_digito_2 * 10) % 11\n",
        "digito_2 = digito_2 if digito_2 <= 9 else 0\n",
        "\n",
        "print(digito_2)\n",
        "\n",
        "# Verifica se o Cpf é válido\n",
        "\n",
        "cpf_gerado_pelo_calculo = f'{nove_digitos}{digito_1}{digito_2}'\n",
        "\n",
        "if cpf == cpf_gerado_pelo_calculo:\n",
        "    print(f'{cpf} é válido')\n",
        "else:\n",
        "    print(f'{cpf} é inválido')\n"
      ]
    }
  ]
}